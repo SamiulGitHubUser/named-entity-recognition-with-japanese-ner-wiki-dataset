{
 "cells": [
  {
   "cell_type": "markdown",
   "metadata": {
    "colab": {
     "base_uri": "https://localhost:8080/"
    },
    "id": "4zy78OrL6qfe",
    "outputId": "8b42b90f-2886-403d-f286-5eb4cee0373d"
   },
   "source": [
    "### Japanese ner model development and evaluation\n",
    "## 日本語ner_modelの開発と評価"
   ]
  },
  {
   "cell_type": "code",
   "execution_count": 2,
   "metadata": {},
   "outputs": [],
   "source": [
    "## Please enable the below lines if you need the installation of the libraries\n",
    "## ライブラリのインストールが必要な場合は、以下の行を有効にしてください。"
   ]
  },
  {
   "cell_type": "code",
   "execution_count": 3,
   "metadata": {},
   "outputs": [],
   "source": [
    "import matplotlib.font_manager as fm\n",
    "prop = fm.FontProperties(fname='japanese font ttf/Gen Jyuu Gothic Monospace Bold.ttf')"
   ]
  },
  {
   "cell_type": "code",
   "execution_count": 4,
   "metadata": {
    "id": "emXkc-rf65Oz"
   },
   "outputs": [],
   "source": [
    "import numpy as np\n",
    "import pandas as pd\n",
    "import json\n",
    "import spacy\n",
    "from spacy import displacy\n",
    "\n",
    "from sklearn.metrics import classification_report\n",
    "import matplotlib.pyplot as plt\n",
    "import japanize_matplotlib\n",
    "import seaborn as sns\n",
    "\n",
    "import warnings\n",
    "warnings.filterwarnings('ignore')"
   ]
  },
  {
   "cell_type": "code",
   "execution_count": 25,
   "metadata": {
    "colab": {
     "base_uri": "https://localhost:8080/"
    },
    "id": "xLJneuA56_Vz",
    "outputId": "4d641a0d-927d-42c6-8a8f-5eabf26d600b"
   },
   "outputs": [],
   "source": [
    "## For japanese spaCy pipeline\n",
    "## 日本語のspaCyパイプライン向け\n",
    "\n",
    "##!python3 -m spacy download ja_core_news_sm"
   ]
  },
  {
   "cell_type": "code",
   "execution_count": 5,
   "metadata": {
    "colab": {
     "base_uri": "https://localhost:8080/"
    },
    "id": "6n2ZePs27msE",
    "outputId": "792daf12-5387-42db-a2f9-8d9cf85840fa"
   },
   "outputs": [
    {
     "data": {
      "text/plain": [
       "['tok2vec', 'morphologizer', 'parser', 'attribute_ruler', 'ner']"
      ]
     },
     "execution_count": 5,
     "metadata": {},
     "output_type": "execute_result"
    }
   ],
   "source": [
    "japanese_ner_nlp = spacy.load(\"ja_core_news_sm\")\n",
    "japanese_ner_nlp.pipe_names"
   ]
  },
  {
   "cell_type": "code",
   "execution_count": 6,
   "metadata": {
    "colab": {
     "base_uri": "https://localhost:8080/",
     "height": 206
    },
    "id": "8mFy5N0i8xYZ",
    "outputId": "c6f8dc3f-1d3c-42f7-bffa-e0a3f9f6ecb0"
   },
   "outputs": [
    {
     "data": {
      "text/html": [
       "<div>\n",
       "<style scoped>\n",
       "    .dataframe tbody tr th:only-of-type {\n",
       "        vertical-align: middle;\n",
       "    }\n",
       "\n",
       "    .dataframe tbody tr th {\n",
       "        vertical-align: top;\n",
       "    }\n",
       "\n",
       "    .dataframe thead th {\n",
       "        text-align: right;\n",
       "    }\n",
       "</style>\n",
       "<table border=\"1\" class=\"dataframe\">\n",
       "  <thead>\n",
       "    <tr style=\"text-align: right;\">\n",
       "      <th></th>\n",
       "      <th>curid</th>\n",
       "      <th>text</th>\n",
       "      <th>entities</th>\n",
       "    </tr>\n",
       "  </thead>\n",
       "  <tbody>\n",
       "    <tr>\n",
       "      <th>0</th>\n",
       "      <td>3572156</td>\n",
       "      <td>SPRiNGSと最も仲の良いライバルグループ。</td>\n",
       "      <td>[{'name': 'SPRiNGS', 'span': [0, 7], 'type': '...</td>\n",
       "    </tr>\n",
       "    <tr>\n",
       "      <th>1</th>\n",
       "      <td>2415078</td>\n",
       "      <td>レッドフォックス株式会社は、東京都千代田区に本社を置くITサービス企業である。</td>\n",
       "      <td>[{'name': 'レッドフォックス株式会社', 'span': [0, 12], 'ty...</td>\n",
       "    </tr>\n",
       "    <tr>\n",
       "      <th>2</th>\n",
       "      <td>2470626</td>\n",
       "      <td>松友美佐紀は、日本のバドミントン選手。</td>\n",
       "      <td>[{'name': '松友美佐紀', 'span': [0, 5], 'type': '人名...</td>\n",
       "    </tr>\n",
       "    <tr>\n",
       "      <th>3</th>\n",
       "      <td>2415752</td>\n",
       "      <td>ライターの兵庫慎司は普通にアイドルポップスとして出すと売れず、無理にバンドとコラボレーション...</td>\n",
       "      <td>[{'name': '兵庫慎司', 'span': [5, 9], 'type': '人名'}]</td>\n",
       "    </tr>\n",
       "    <tr>\n",
       "      <th>4</th>\n",
       "      <td>2312857</td>\n",
       "      <td>またCMソング、コミックスイメージアルバム、ゲームミュージック等にボーカルとして多数参加して...</td>\n",
       "      <td>[]</td>\n",
       "    </tr>\n",
       "  </tbody>\n",
       "</table>\n",
       "</div>"
      ],
      "text/plain": [
       "     curid                                               text  \\\n",
       "0  3572156                            SPRiNGSと最も仲の良いライバルグループ。   \n",
       "1  2415078            レッドフォックス株式会社は、東京都千代田区に本社を置くITサービス企業である。   \n",
       "2  2470626                                松友美佐紀は、日本のバドミントン選手。   \n",
       "3  2415752  ライターの兵庫慎司は普通にアイドルポップスとして出すと売れず、無理にバンドとコラボレーション...   \n",
       "4  2312857  またCMソング、コミックスイメージアルバム、ゲームミュージック等にボーカルとして多数参加して...   \n",
       "\n",
       "                                            entities  \n",
       "0  [{'name': 'SPRiNGS', 'span': [0, 7], 'type': '...  \n",
       "1  [{'name': 'レッドフォックス株式会社', 'span': [0, 12], 'ty...  \n",
       "2  [{'name': '松友美佐紀', 'span': [0, 5], 'type': '人名...  \n",
       "3   [{'name': '兵庫慎司', 'span': [5, 9], 'type': '人名'}]  \n",
       "4                                                 []  "
      ]
     },
     "execution_count": 6,
     "metadata": {},
     "output_type": "execute_result"
    }
   ],
   "source": [
    "with open('Dataset/ner-wikipedia-dataset/ner.json') as datafile:\n",
    "    data = json.load(datafile)\n",
    "ner_text_data = pd.DataFrame(data)\n",
    "\n",
    "ner_text_data.head()"
   ]
  },
  {
   "cell_type": "code",
   "execution_count": 7,
   "metadata": {
    "id": "J25mykKx7zu1"
   },
   "outputs": [],
   "source": [
    "## Let's prepare our data for training and validation for spaCy model\n",
    "def data_process(data):\n",
    "  processed_data_list = []\n",
    "  for index, row in data.iterrows():\n",
    "    text_var = row['text']\n",
    "\n",
    "    dict_var = {\"entities\":[]}\n",
    "    for x in row['entities']:\n",
    "      dict_var[\"entities\"].append(tuple(x['span'])+(x['type'],))\n",
    "    \n",
    "    processed_data_list.append((text_var,)+(dict_var,))\n",
    "\n",
    "  return processed_data_list"
   ]
  },
  {
   "cell_type": "code",
   "execution_count": 8,
   "metadata": {
    "colab": {
     "base_uri": "https://localhost:8080/"
    },
    "id": "LowW-yxq8mE3",
    "outputId": "b6c10510-5b8d-4182-f2a0-1f7d089e9b88"
   },
   "outputs": [
    {
     "name": "stdout",
     "output_type": "stream",
     "text": [
      "Total sentences:  5343\n",
      "\n",
      "[('SPRiNGSと最も仲の良いライバルグループ。', {'entities': [(0, 7, 'その他の組織名')]}), ('レッドフォックス株式会社は、東京都千代田区に本社を置くITサービス企業である。', {'entities': [(0, 12, '法人名'), (14, 21, '地名')]}), ('松友美佐紀は、日本のバドミントン選手。', {'entities': [(0, 5, '人名'), (7, 9, '地名')]}), ('ライターの兵庫慎司は普通にアイドルポップスとして出すと売れず、無理にバンドとコラボレーションさせるのも先例からして上手くいかない、それならロックミュージシャンと制作すればいいということになったのではないかとしている。', {'entities': [(5, 9, '人名')]}), ('またCMソング、コミックスイメージアルバム、ゲームミュージック等にボーカルとして多数参加している他、コーラスとして他のアーティストのアルバム等にも参加している。', {'entities': []})]\n"
     ]
    }
   ],
   "source": [
    "processed_ner_data = data_process(ner_text_data)\n",
    "print('Total sentences: ', len(processed_ner_data))\n",
    "print()\n",
    "print(processed_ner_data[:5])"
   ]
  },
  {
   "cell_type": "code",
   "execution_count": 9,
   "metadata": {
    "colab": {
     "base_uri": "https://localhost:8080/"
    },
    "id": "32rtaaCg9G2I",
    "outputId": "b2e644d3-bb60-43ad-a325-d812643ce8ab"
   },
   "outputs": [
    {
     "name": "stdout",
     "output_type": "stream",
     "text": [
      "Total train data:  5001\n",
      "Total valid len:  342\n"
     ]
    }
   ],
   "source": [
    "## Let's define the number of training and validation data\n",
    "## Almost 94% data for training; and 6% for validation data\n",
    "train_len = len(processed_ner_data)-round(len(processed_ner_data)*0.064)\n",
    "valid_len = round(len(processed_ner_data)*0.064)\n",
    "\n",
    "train_data = processed_ner_data[:train_len]\n",
    "valid_data = processed_ner_data[train_len:]\n",
    "\n",
    "print('Total train data: ', len(train_data))\n",
    "print('Total valid len: ', len(valid_data))"
   ]
  },
  {
   "cell_type": "code",
   "execution_count": 10,
   "metadata": {
    "id": "pxi0ytlU-bjY"
   },
   "outputs": [],
   "source": [
    "## Define a customize pipeline for ner spaCy model\n",
    "\n",
    "## Train only NER for our model\n",
    "my_ner = japanese_ner_nlp.get_pipe(\"ner\")\n",
    "\n",
    "## Add our labels to NER model\n",
    "for _, annotations in train_data[:1]:\n",
    "  for entity in annotations.get(\"entities\"):\n",
    "    my_ner.add_label(entity[2])\n",
    "\n",
    "## Disable other components ('tok2vec', 'morphologizer', 'parser', 'attribute_ruler') except 'ner' from pipeline for training\n",
    "disable_pipes = [pipe for pipe in japanese_ner_nlp.pipe_names if pipe !='ner']"
   ]
  },
  {
   "cell_type": "code",
   "execution_count": 11,
   "metadata": {
    "id": "MaatrTN3_AEu"
   },
   "outputs": [],
   "source": [
    "## Train model with our data\n",
    "## Train model with 150 epochs\n",
    "\n",
    "from thinc.optimizers import Optimizer\n",
    "import random \n",
    "from spacy.util import minibatch, compounding\n",
    "from pathlib import Path\n",
    "\n",
    "from spacy.training.example import Example\n",
    "\n",
    "def model_train(japanese_ner_nlp, train_data, disable_pipes, epoch):\n",
    "  with japanese_ner_nlp.disable_pipes(*disable_pipes):\n",
    "    optimizer = japanese_ner_nlp.resume_training()\n",
    "    train_loss = []\n",
    "\n",
    "    ## Train 150 epochs\n",
    "    for iterationn in range(epoch):\n",
    "      random.shuffle(train_data)\n",
    "      losses = {}\n",
    "\n",
    "      ## Try minibatch to  inject enough noise to each gradient update\n",
    "      batches = minibatch(train_data, size=compounding(4.0, 16.0, 1.001))\n",
    "      for batch in batches:\n",
    "        texts, annotation = zip(*batch)\n",
    "\n",
    "        example = []\n",
    "        ## Update the model with iterating each text\n",
    "        for i in range(len(texts)):\n",
    "          doc = japanese_ner_nlp.make_doc(texts[i])\n",
    "          example.append(Example.from_dict(doc, annotation[i]))\n",
    "        \n",
    "        japanese_ner_nlp.update(\n",
    "            example,\n",
    "            drop = 0.3,\n",
    "            losses= losses,\n",
    "            sgd = optimizer\n",
    "        )\n",
    "      train_loss.append(losses)\n",
    "      print(\"Losses\", losses)\n",
    "\n",
    "    return (japanese_ner_nlp , train_loss)"
   ]
  },
  {
   "cell_type": "code",
   "execution_count": 12,
   "metadata": {
    "id": "bLkeZ4iCCA6E"
   },
   "outputs": [],
   "source": [
    "def save_mode_data(train_loss, nlp_model):\n",
    "  train_loss_df = pd.DataFrame(train_loss)\n",
    "  train_loss_df.to_csv('model csv/model_loss.csv')\n",
    "  nlp_model.to_disk('japanese_ner_model')\n",
    "\n",
    "  print(\"Model and loss data are Saved!\")\n",
    "  return train_loss_df"
   ]
  },
  {
   "cell_type": "code",
   "execution_count": null,
   "metadata": {
    "colab": {
     "base_uri": "https://localhost:8080/"
    },
    "id": "EZ_laV-PFr7z",
    "outputId": "5ce0327c-6762-42f0-d135-80bdcc9a799a"
   },
   "outputs": [
    {
     "name": "stdout",
     "output_type": "stream",
     "text": [
      "Losses {'ner': 18125.838857681236}\n",
      "Losses {'ner': 14287.625137482863}\n",
      "Losses {'ner': 12495.40566900426}\n",
      "Losses {'ner': 11319.708281223491}\n",
      "Losses {'ner': 10606.11224771613}\n",
      "Losses {'ner': 9734.212543937841}\n",
      "Losses {'ner': 8908.484559933535}\n",
      "Losses {'ner': 8277.946618650167}\n",
      "Losses {'ner': 7874.3017006673845}\n",
      "Losses {'ner': 7346.7302797072225}\n",
      "Losses {'ner': 6871.009543521138}\n",
      "Losses {'ner': 6330.190905597404}\n",
      "Losses {'ner': 6102.63015384117}\n",
      "Losses {'ner': 6012.776150847446}\n",
      "Losses {'ner': 5688.040062129654}\n",
      "Losses {'ner': 5265.8033734776645}\n",
      "Losses {'ner': 5213.174397905945}\n",
      "Losses {'ner': 5044.643410967762}\n",
      "Losses {'ner': 4839.946284489557}\n",
      "Losses {'ner': 4420.681445086441}\n",
      "Losses {'ner': 4427.956195046332}\n",
      "Losses {'ner': 4129.043070083754}\n",
      "Losses {'ner': 4047.245063931315}\n",
      "Losses {'ner': 3856.4000115866243}\n",
      "Losses {'ner': 3720.24705950463}\n",
      "Losses {'ner': 3603.8603676542316}\n",
      "Losses {'ner': 3573.4114729594776}\n",
      "Losses {'ner': 3404.3024751156445}\n",
      "Losses {'ner': 3502.5176316137167}\n",
      "Losses {'ner': 3298.171487663283}\n",
      "Losses {'ner': 3123.958912866242}\n",
      "Losses {'ner': 3086.2109841640763}\n",
      "Losses {'ner': 2960.644987186279}\n",
      "Losses {'ner': 2990.9943990734564}\n",
      "Losses {'ner': 2985.5139906046775}\n",
      "Losses {'ner': 2799.9571103655417}\n",
      "Losses {'ner': 2793.336019485866}\n",
      "Losses {'ner': 2610.1032951434627}\n",
      "Losses {'ner': 2513.7231810862327}\n",
      "Losses {'ner': 2600.565503200421}\n",
      "Losses {'ner': 2514.8297284825753}\n",
      "Losses {'ner': 2554.677769754507}\n",
      "Losses {'ner': 2273.4400162524144}\n",
      "Losses {'ner': 2286.5779935125556}\n",
      "Losses {'ner': 2294.262611771153}\n",
      "Losses {'ner': 2371.6149195650178}\n",
      "Losses {'ner': 2380.8318876943886}\n",
      "Losses {'ner': 2118.5345377686476}\n",
      "Losses {'ner': 2231.903882451107}\n",
      "Losses {'ner': 2275.100602351851}\n",
      "Losses {'ner': 2182.9634805044648}\n",
      "Losses {'ner': 2262.41739526252}\n",
      "Losses {'ner': 2014.030437112736}\n",
      "Losses {'ner': 2171.8366036721527}\n",
      "Losses {'ner': 1874.5820438380113}\n",
      "Losses {'ner': 2060.963350381842}\n",
      "Losses {'ner': 1997.118667604168}\n",
      "Losses {'ner': 1898.762553532901}\n",
      "Losses {'ner': 1847.6014696963168}\n",
      "Losses {'ner': 1843.9581309586213}\n",
      "Losses {'ner': 1789.0142970788131}\n",
      "Losses {'ner': 1798.4760052599538}\n",
      "Losses {'ner': 1918.8390133801508}\n",
      "Losses {'ner': 1885.3543481157099}\n",
      "Losses {'ner': 1791.425652720114}\n",
      "Losses {'ner': 1683.5478209074793}\n",
      "Losses {'ner': 1668.6041448672656}\n",
      "Losses {'ner': 1665.2937197359872}\n",
      "Losses {'ner': 1748.3138322795724}\n",
      "Losses {'ner': 1639.7391906990376}\n",
      "Losses {'ner': 1705.1394825980058}\n",
      "Losses {'ner': 1660.8596138541875}\n",
      "Losses {'ner': 1776.121611027083}\n",
      "Losses {'ner': 1606.005875007035}\n",
      "Losses {'ner': 1566.6980503740806}\n",
      "Losses {'ner': 1625.3808178585855}\n",
      "Losses {'ner': 1783.3347643478887}\n",
      "Losses {'ner': 1551.1258094515294}\n",
      "Losses {'ner': 1546.2394684050166}\n",
      "Losses {'ner': 1572.7232375085355}\n",
      "Losses {'ner': 1633.7134653636567}\n",
      "Losses {'ner': 1742.666533915597}\n",
      "Losses {'ner': 1473.8000476520704}\n",
      "Losses {'ner': 1489.055914955238}\n",
      "Losses {'ner': 1407.819439772548}\n",
      "Losses {'ner': 1519.290706676051}\n",
      "Losses {'ner': 1505.9891851061439}\n",
      "Losses {'ner': 1557.3327018902955}\n",
      "Losses {'ner': 1411.4635056183242}\n",
      "Losses {'ner': 1434.0481469271556}\n",
      "Losses {'ner': 1589.5793456359545}\n",
      "Losses {'ner': 1611.5569828794783}\n",
      "Losses {'ner': 1552.4648526757858}\n",
      "Losses {'ner': 1495.5797941027581}\n",
      "Losses {'ner': 1564.7611601331562}\n",
      "Losses {'ner': 1421.1428391165712}\n",
      "Losses {'ner': 1394.9217324713147}\n",
      "Losses {'ner': 1424.6019837035465}\n",
      "Losses {'ner': 1457.1921439905045}\n",
      "Losses {'ner': 1400.5571592745252}\n",
      "Losses {'ner': 1282.7197624548628}\n",
      "Losses {'ner': 1451.96192853476}\n",
      "Losses {'ner': 1334.3883587967437}\n",
      "Losses {'ner': 1429.4498103139845}\n",
      "Losses {'ner': 1431.8096783830044}\n",
      "Losses {'ner': 1293.6863468790198}\n",
      "Losses {'ner': 1357.5039093749303}\n",
      "Losses {'ner': 1316.7006463024568}\n",
      "Losses {'ner': 1236.9938079985445}\n",
      "Losses {'ner': 1309.145078675238}\n",
      "Losses {'ner': 1367.650545155832}\n",
      "Losses {'ner': 1309.1959929188733}\n",
      "Losses {'ner': 1342.5768315075243}\n",
      "Losses {'ner': 1162.6622519725079}\n",
      "Losses {'ner': 1310.6274932124666}\n",
      "Losses {'ner': 1198.2122803532752}\n",
      "Losses {'ner': 1280.2238164571597}\n",
      "Losses {'ner': 1308.565990004787}\n",
      "Losses {'ner': 1167.2109364824405}\n",
      "Losses {'ner': 1364.2720339953523}\n",
      "Losses {'ner': 1381.8079751625842}\n",
      "Losses {'ner': 1337.31409524422}\n",
      "Losses {'ner': 1393.1847254534484}\n",
      "Losses {'ner': 1302.439045214505}\n",
      "Losses {'ner': 1189.7476651289815}\n",
      "Losses {'ner': 1166.229689524786}\n",
      "Losses {'ner': 1339.7001291878125}\n",
      "Losses {'ner': 1078.7260271030882}\n",
      "Losses {'ner': 1210.4125950560594}\n",
      "Losses {'ner': 1250.5318056990616}\n",
      "Losses {'ner': 1137.3036823748341}\n",
      "Losses {'ner': 1227.6380788060642}\n",
      "Losses {'ner': 1239.5546591627724}\n",
      "Losses {'ner': 1266.9598996270133}\n",
      "Losses {'ner': 1263.0142096643665}\n",
      "Losses {'ner': 1198.5962223576298}\n",
      "Losses {'ner': 1158.788090220486}\n",
      "Losses {'ner': 1240.309129089184}\n",
      "Losses {'ner': 1248.2810843791322}\n",
      "Losses {'ner': 1293.0012176303132}\n",
      "Losses {'ner': 1172.8364154723386}\n",
      "Losses {'ner': 1295.960264502476}\n",
      "Losses {'ner': 1188.5327097639681}\n",
      "Losses {'ner': 1212.8406909503249}\n",
      "Losses {'ner': 1160.3041378573137}\n",
      "Losses {'ner': 1211.9403763767148}\n",
      "Losses {'ner': 1106.4806760795602}\n",
      "Losses {'ner': 1100.9313607064908}\n",
      "Losses {'ner': 1202.5696783691105}\n",
      "Losses {'ner': 1130.7711392006831}\n"
     ]
    }
   ],
   "source": [
    "#epoch = 150\n",
    "#my_ner_nlp_model , train_loss = model_train(japanese_ner_nlp, train_data, disable_pipes, epoch)"
   ]
  },
  {
   "cell_type": "code",
   "execution_count": null,
   "metadata": {
    "colab": {
     "base_uri": "https://localhost:8080/"
    },
    "id": "ZRa9JjdBCm6-",
    "outputId": "4ff23f3d-6c0a-4c77-df68-d1aa4e47396e"
   },
   "outputs": [
    {
     "name": "stdout",
     "output_type": "stream",
     "text": [
      "Model and loss data are Saved!\n"
     ]
    },
    {
     "data": {
      "text/html": [
       "\n",
       "  <div id=\"df-ef1e4cd5-a55a-4521-9152-1bcdf68dd326\">\n",
       "    <div class=\"colab-df-container\">\n",
       "      <div>\n",
       "<style scoped>\n",
       "    .dataframe tbody tr th:only-of-type {\n",
       "        vertical-align: middle;\n",
       "    }\n",
       "\n",
       "    .dataframe tbody tr th {\n",
       "        vertical-align: top;\n",
       "    }\n",
       "\n",
       "    .dataframe thead th {\n",
       "        text-align: right;\n",
       "    }\n",
       "</style>\n",
       "<table border=\"1\" class=\"dataframe\">\n",
       "  <thead>\n",
       "    <tr style=\"text-align: right;\">\n",
       "      <th></th>\n",
       "      <th>ner</th>\n",
       "    </tr>\n",
       "  </thead>\n",
       "  <tbody>\n",
       "    <tr>\n",
       "      <th>0</th>\n",
       "      <td>18125.838858</td>\n",
       "    </tr>\n",
       "    <tr>\n",
       "      <th>1</th>\n",
       "      <td>14287.625137</td>\n",
       "    </tr>\n",
       "    <tr>\n",
       "      <th>2</th>\n",
       "      <td>12495.405669</td>\n",
       "    </tr>\n",
       "    <tr>\n",
       "      <th>3</th>\n",
       "      <td>11319.708281</td>\n",
       "    </tr>\n",
       "    <tr>\n",
       "      <th>4</th>\n",
       "      <td>10606.112248</td>\n",
       "    </tr>\n",
       "  </tbody>\n",
       "</table>\n",
       "</div>\n",
       "      <button class=\"colab-df-convert\" onclick=\"convertToInteractive('df-ef1e4cd5-a55a-4521-9152-1bcdf68dd326')\"\n",
       "              title=\"Convert this dataframe to an interactive table.\"\n",
       "              style=\"display:none;\">\n",
       "        \n",
       "  <svg xmlns=\"http://www.w3.org/2000/svg\" height=\"24px\"viewBox=\"0 0 24 24\"\n",
       "       width=\"24px\">\n",
       "    <path d=\"M0 0h24v24H0V0z\" fill=\"none\"/>\n",
       "    <path d=\"M18.56 5.44l.94 2.06.94-2.06 2.06-.94-2.06-.94-.94-2.06-.94 2.06-2.06.94zm-11 1L8.5 8.5l.94-2.06 2.06-.94-2.06-.94L8.5 2.5l-.94 2.06-2.06.94zm10 10l.94 2.06.94-2.06 2.06-.94-2.06-.94-.94-2.06-.94 2.06-2.06.94z\"/><path d=\"M17.41 7.96l-1.37-1.37c-.4-.4-.92-.59-1.43-.59-.52 0-1.04.2-1.43.59L10.3 9.45l-7.72 7.72c-.78.78-.78 2.05 0 2.83L4 21.41c.39.39.9.59 1.41.59.51 0 1.02-.2 1.41-.59l7.78-7.78 2.81-2.81c.8-.78.8-2.07 0-2.86zM5.41 20L4 18.59l7.72-7.72 1.47 1.35L5.41 20z\"/>\n",
       "  </svg>\n",
       "      </button>\n",
       "      \n",
       "  <style>\n",
       "    .colab-df-container {\n",
       "      display:flex;\n",
       "      flex-wrap:wrap;\n",
       "      gap: 12px;\n",
       "    }\n",
       "\n",
       "    .colab-df-convert {\n",
       "      background-color: #E8F0FE;\n",
       "      border: none;\n",
       "      border-radius: 50%;\n",
       "      cursor: pointer;\n",
       "      display: none;\n",
       "      fill: #1967D2;\n",
       "      height: 32px;\n",
       "      padding: 0 0 0 0;\n",
       "      width: 32px;\n",
       "    }\n",
       "\n",
       "    .colab-df-convert:hover {\n",
       "      background-color: #E2EBFA;\n",
       "      box-shadow: 0px 1px 2px rgba(60, 64, 67, 0.3), 0px 1px 3px 1px rgba(60, 64, 67, 0.15);\n",
       "      fill: #174EA6;\n",
       "    }\n",
       "\n",
       "    [theme=dark] .colab-df-convert {\n",
       "      background-color: #3B4455;\n",
       "      fill: #D2E3FC;\n",
       "    }\n",
       "\n",
       "    [theme=dark] .colab-df-convert:hover {\n",
       "      background-color: #434B5C;\n",
       "      box-shadow: 0px 1px 3px 1px rgba(0, 0, 0, 0.15);\n",
       "      filter: drop-shadow(0px 1px 2px rgba(0, 0, 0, 0.3));\n",
       "      fill: #FFFFFF;\n",
       "    }\n",
       "  </style>\n",
       "\n",
       "      <script>\n",
       "        const buttonEl =\n",
       "          document.querySelector('#df-ef1e4cd5-a55a-4521-9152-1bcdf68dd326 button.colab-df-convert');\n",
       "        buttonEl.style.display =\n",
       "          google.colab.kernel.accessAllowed ? 'block' : 'none';\n",
       "\n",
       "        async function convertToInteractive(key) {\n",
       "          const element = document.querySelector('#df-ef1e4cd5-a55a-4521-9152-1bcdf68dd326');\n",
       "          const dataTable =\n",
       "            await google.colab.kernel.invokeFunction('convertToInteractive',\n",
       "                                                     [key], {});\n",
       "          if (!dataTable) return;\n",
       "\n",
       "          const docLinkHtml = 'Like what you see? Visit the ' +\n",
       "            '<a target=\"_blank\" href=https://colab.research.google.com/notebooks/data_table.ipynb>data table notebook</a>'\n",
       "            + ' to learn more about interactive tables.';\n",
       "          element.innerHTML = '';\n",
       "          dataTable['output_type'] = 'display_data';\n",
       "          await google.colab.output.renderOutput(dataTable, element);\n",
       "          const docLink = document.createElement('div');\n",
       "          docLink.innerHTML = docLinkHtml;\n",
       "          element.appendChild(docLink);\n",
       "        }\n",
       "      </script>\n",
       "    </div>\n",
       "  </div>\n",
       "  "
      ],
      "text/plain": [
       "            ner\n",
       "0  18125.838858\n",
       "1  14287.625137\n",
       "2  12495.405669\n",
       "3  11319.708281\n",
       "4  10606.112248"
      ]
     },
     "execution_count": 154,
     "metadata": {},
     "output_type": "execute_result"
    }
   ],
   "source": [
    "#ner_model_train_loss_df = save_mode_data (train_loss, my_ner_nlp_model)\n",
    "#ner_model_train_loss_df.head()"
   ]
  },
  {
   "cell_type": "markdown",
   "metadata": {
    "id": "iC4v4Sb7Gtm0"
   },
   "source": [
    "## Load my model and evaluate"
   ]
  },
  {
   "cell_type": "code",
   "execution_count": 13,
   "metadata": {
    "colab": {
     "base_uri": "https://localhost:8080/",
     "height": 224
    },
    "id": "lMilcQvmDJgO",
    "outputId": "e6248003-757c-494c-abbb-559ce37b062f"
   },
   "outputs": [
    {
     "name": "stdout",
     "output_type": "stream",
     "text": [
      "['tok2vec', 'morphologizer', 'parser', 'attribute_ruler', 'ner']\n"
     ]
    },
    {
     "data": {
      "text/html": [
       "<div>\n",
       "<style scoped>\n",
       "    .dataframe tbody tr th:only-of-type {\n",
       "        vertical-align: middle;\n",
       "    }\n",
       "\n",
       "    .dataframe tbody tr th {\n",
       "        vertical-align: top;\n",
       "    }\n",
       "\n",
       "    .dataframe thead th {\n",
       "        text-align: right;\n",
       "    }\n",
       "</style>\n",
       "<table border=\"1\" class=\"dataframe\">\n",
       "  <thead>\n",
       "    <tr style=\"text-align: right;\">\n",
       "      <th></th>\n",
       "      <th>ner</th>\n",
       "    </tr>\n",
       "  </thead>\n",
       "  <tbody>\n",
       "    <tr>\n",
       "      <th>0</th>\n",
       "      <td>18125.838858</td>\n",
       "    </tr>\n",
       "    <tr>\n",
       "      <th>1</th>\n",
       "      <td>14287.625137</td>\n",
       "    </tr>\n",
       "    <tr>\n",
       "      <th>2</th>\n",
       "      <td>12495.405669</td>\n",
       "    </tr>\n",
       "    <tr>\n",
       "      <th>3</th>\n",
       "      <td>11319.708281</td>\n",
       "    </tr>\n",
       "    <tr>\n",
       "      <th>4</th>\n",
       "      <td>10606.112248</td>\n",
       "    </tr>\n",
       "  </tbody>\n",
       "</table>\n",
       "</div>"
      ],
      "text/plain": [
       "            ner\n",
       "0  18125.838858\n",
       "1  14287.625137\n",
       "2  12495.405669\n",
       "3  11319.708281\n",
       "4  10606.112248"
      ]
     },
     "execution_count": 13,
     "metadata": {},
     "output_type": "execute_result"
    }
   ],
   "source": [
    "## Evaluate our customized ner model\n",
    "## my_ner_nlp_model\n",
    "## train_data, train_len\n",
    "## valid_data, alid_len\n",
    "## ner_model_train_loss_df\n",
    "\n",
    "my_trained_ner_nlp = spacy.load(\"japanese_ner_model\")\n",
    "print(my_trained_ner_nlp.pipe_names)\n",
    "\n",
    "ner_model_train_loss_df = pd.read_csv('model csv/model_loss.csv', index_col=0)\n",
    "ner_model_train_loss_df.head()"
   ]
  },
  {
   "cell_type": "code",
   "execution_count": 14,
   "metadata": {
    "colab": {
     "base_uri": "https://localhost:8080/"
    },
    "id": "2CDM0gTXkx74",
    "outputId": "ebab22df-f194-4029-9435-799e1deb96fd"
   },
   "outputs": [
    {
     "data": {
      "image/png": "[encoded data removed]",
      "text/plain": [
       "<Figure size 720x432 with 1 Axes>"
      ]
     },
     "metadata": {
      "needs_background": "light"
     },
     "output_type": "display_data"
    }
   ],
   "source": [
    "def loss_pot(loss_df):\n",
    "  plt.figure(figsize=(10, 6))\n",
    "  plt.plot(loss_df)\n",
    "  plt.title('model loss') \n",
    "  plt.ylabel('loss') \n",
    "  plt.xlabel('epoch')\n",
    "\n",
    "loss_pot(ner_model_train_loss_df)"
   ]
  },
  {
   "cell_type": "code",
   "execution_count": 15,
   "metadata": {
    "id": "-uS3aryOlQmR"
   },
   "outputs": [],
   "source": [
    "def mode_predition_data(ner_model, table_data, predictable_data):\n",
    "  ## Arrange table data\n",
    "  # sentence # ent_name # ent_span # ent_type\n",
    "  eval_df = pd.DataFrame(columns=['sentence', 'ent_name', 'ent_span', 'ent_type'])\n",
    "  my_dic = {}\n",
    "  my_dic = {\"sentence\": '',\n",
    "            \"ent_name\": '',\n",
    "            \"ent_span\":'', \n",
    "            \"ent_type\":''};\n",
    "\n",
    "  for index, row in table_data.iterrows():\n",
    "    sentence = row['text']\n",
    "    #print(sentence)\n",
    "    for x in row['entities']:\n",
    "      #print(x['name'], x['span'], x['type'])\n",
    "      my_dic['sentence']=sentence\n",
    "      my_dic['ent_name']=x['name']\n",
    "      my_dic['ent_span']=x['span']\n",
    "      my_dic['ent_type']=x['type']\n",
    "      eval_df = eval_df.append(my_dic, ignore_index = True)\n",
    "  \n",
    "  ## Arrange Model Pred data\n",
    "  for text,_ in predictable_data:\n",
    "    doc = ner_model(text)\n",
    "    #print(\"Entities\", [(ent.text, ent.label_) for ent in doc.ents])\n",
    "\n",
    "    ## Insert  pre values\n",
    "    for ent in doc.ents:\n",
    "      table_index = eval_df[(eval_df['ent_name']==ent.text)!=False].index\n",
    "      if len(table_index):\n",
    "        eval_df.loc[table_index[0], 'model_pred'] = ent.label_\n",
    "  eval_df['model_pred'] = eval_df['model_pred'].fillna('') \n",
    "  return eval_df; "
   ]
  },
  {
   "cell_type": "code",
   "execution_count": 36,
   "metadata": {
    "colab": {
     "base_uri": "https://localhost:8080/",
     "height": 206
    },
    "id": "2AzJi3sbly9Z",
    "outputId": "31fbce7f-74fa-4641-978c-22f6d2ef23f3"
   },
   "outputs": [
    {
     "data": {
      "text/html": [
       "<div>\n",
       "<style scoped>\n",
       "    .dataframe tbody tr th:only-of-type {\n",
       "        vertical-align: middle;\n",
       "    }\n",
       "\n",
       "    .dataframe tbody tr th {\n",
       "        vertical-align: top;\n",
       "    }\n",
       "\n",
       "    .dataframe thead th {\n",
       "        text-align: right;\n",
       "    }\n",
       "</style>\n",
       "<table border=\"1\" class=\"dataframe\">\n",
       "  <thead>\n",
       "    <tr style=\"text-align: right;\">\n",
       "      <th></th>\n",
       "      <th>sentence</th>\n",
       "      <th>ent_name</th>\n",
       "      <th>ent_span</th>\n",
       "      <th>ent_type</th>\n",
       "      <th>model_pred</th>\n",
       "    </tr>\n",
       "  </thead>\n",
       "  <tbody>\n",
       "    <tr>\n",
       "      <th>0</th>\n",
       "      <td>Google Summer of Code Project in 2005の一環としてFre...</td>\n",
       "      <td>Google Summer of Code Project in 2005</td>\n",
       "      <td>[0, 37]</td>\n",
       "      <td>イベント名</td>\n",
       "      <td>製品名</td>\n",
       "    </tr>\n",
       "    <tr>\n",
       "      <th>1</th>\n",
       "      <td>Google Summer of Code Project in 2005の一環としてFre...</td>\n",
       "      <td>FreeBSD</td>\n",
       "      <td>[43, 50]</td>\n",
       "      <td>製品名</td>\n",
       "      <td></td>\n",
       "    </tr>\n",
       "    <tr>\n",
       "      <th>2</th>\n",
       "      <td>1973年、バターン州を代表して\"Miss Republic of the Philippi...</td>\n",
       "      <td>バターン州</td>\n",
       "      <td>[6, 11]</td>\n",
       "      <td>地名</td>\n",
       "      <td>地名</td>\n",
       "    </tr>\n",
       "    <tr>\n",
       "      <th>3</th>\n",
       "      <td>1973年、バターン州を代表して\"Miss Republic of the Philippi...</td>\n",
       "      <td>Miss Republic of the Philippines 1973</td>\n",
       "      <td>[17, 54]</td>\n",
       "      <td>イベント名</td>\n",
       "      <td>製品名</td>\n",
       "    </tr>\n",
       "    <tr>\n",
       "      <th>4</th>\n",
       "      <td>州大会優勝を受けて、ミス・ティーンUSA2002に出場し、TOP10に選ばれる健闘だったほか...</td>\n",
       "      <td>ミス・ティーンUSA2002</td>\n",
       "      <td>[10, 24]</td>\n",
       "      <td>イベント名</td>\n",
       "      <td>法人名</td>\n",
       "    </tr>\n",
       "  </tbody>\n",
       "</table>\n",
       "</div>"
      ],
      "text/plain": [
       "                                            sentence  \\\n",
       "0  Google Summer of Code Project in 2005の一環としてFre...   \n",
       "1  Google Summer of Code Project in 2005の一環としてFre...   \n",
       "2  1973年、バターン州を代表して\"Miss Republic of the Philippi...   \n",
       "3  1973年、バターン州を代表して\"Miss Republic of the Philippi...   \n",
       "4  州大会優勝を受けて、ミス・ティーンUSA2002に出場し、TOP10に選ばれる健闘だったほか...   \n",
       "\n",
       "                                ent_name  ent_span ent_type model_pred  \n",
       "0  Google Summer of Code Project in 2005   [0, 37]    イベント名        製品名  \n",
       "1                                FreeBSD  [43, 50]      製品名             \n",
       "2                                  バターン州   [6, 11]       地名         地名  \n",
       "3  Miss Republic of the Philippines 1973  [17, 54]    イベント名        製品名  \n",
       "4                         ミス・ティーンUSA2002  [10, 24]    イベント名        法人名  "
      ]
     },
     "execution_count": 36,
     "metadata": {},
     "output_type": "execute_result"
    }
   ],
   "source": [
    "## Test with validation data\n",
    "table_data = ner_text_data[train_len:]\n",
    "valid_data = valid_data\n",
    "## Call model pred function\n",
    "valid_model_pred_df = mode_predition_data(my_trained_ner_nlp, table_data, valid_data)\n",
    "valid_model_pred_df.head()"
   ]
  },
  {
   "cell_type": "code",
   "execution_count": 18,
   "metadata": {
    "id": "yC762q8HmRsG"
   },
   "outputs": [],
   "source": [
    "def evaluation_report(y_true, y_pred):\n",
    "  clf_report = classification_report(y_true, y_pred, output_dict=True)\n",
    "  return pd.DataFrame(clf_report).T"
   ]
  },
  {
   "cell_type": "code",
   "execution_count": 44,
   "metadata": {},
   "outputs": [],
   "source": [
    "def eval_heatmap(eval_df):\n",
    "    plt.figure(figsize=(14, 8))\n",
    "    sns.heatmap(eval_df, cmap='RdYlGn_r', annot=True)\n",
    "    plt.yticks(np.arange(0.5, len(eval_df.index), 1), eval_df.index, fontproperties=prop)\n",
    "    plt.xticks(np.arange(0.5, len(eval_df.columns), 1), eval_df.columns, fontproperties=prop)"
   ]
  },
  {
   "cell_type": "code",
   "execution_count": 43,
   "metadata": {
    "colab": {
     "base_uri": "https://localhost:8080/",
     "height": 394
    },
    "id": "OROOurtuIoDJ",
    "outputId": "2f097231-d88e-4999-a865-6c44752d7fac"
   },
   "outputs": [
    {
     "data": {
      "text/html": [
       "<div>\n",
       "<style scoped>\n",
       "    .dataframe tbody tr th:only-of-type {\n",
       "        vertical-align: middle;\n",
       "    }\n",
       "\n",
       "    .dataframe tbody tr th {\n",
       "        vertical-align: top;\n",
       "    }\n",
       "\n",
       "    .dataframe thead th {\n",
       "        text-align: right;\n",
       "    }\n",
       "</style>\n",
       "<table border=\"1\" class=\"dataframe\">\n",
       "  <thead>\n",
       "    <tr style=\"text-align: right;\">\n",
       "      <th></th>\n",
       "      <th>precision</th>\n",
       "      <th>recall</th>\n",
       "      <th>f1-score</th>\n",
       "      <th>support</th>\n",
       "    </tr>\n",
       "  </thead>\n",
       "  <tbody>\n",
       "    <tr>\n",
       "      <th>その他の組織名</th>\n",
       "      <td>0.625000</td>\n",
       "      <td>0.468750</td>\n",
       "      <td>0.535714</td>\n",
       "      <td>64.000000</td>\n",
       "    </tr>\n",
       "    <tr>\n",
       "      <th>イベント名</th>\n",
       "      <td>0.875000</td>\n",
       "      <td>0.546875</td>\n",
       "      <td>0.673077</td>\n",
       "      <td>64.000000</td>\n",
       "    </tr>\n",
       "    <tr>\n",
       "      <th>人名</th>\n",
       "      <td>0.776119</td>\n",
       "      <td>0.565217</td>\n",
       "      <td>0.654088</td>\n",
       "      <td>184.000000</td>\n",
       "    </tr>\n",
       "    <tr>\n",
       "      <th>地名</th>\n",
       "      <td>0.843750</td>\n",
       "      <td>0.509434</td>\n",
       "      <td>0.635294</td>\n",
       "      <td>159.000000</td>\n",
       "    </tr>\n",
       "    <tr>\n",
       "      <th>政治的組織名</th>\n",
       "      <td>0.800000</td>\n",
       "      <td>0.656716</td>\n",
       "      <td>0.721311</td>\n",
       "      <td>67.000000</td>\n",
       "    </tr>\n",
       "    <tr>\n",
       "      <th>施設名</th>\n",
       "      <td>0.812500</td>\n",
       "      <td>0.448276</td>\n",
       "      <td>0.577778</td>\n",
       "      <td>87.000000</td>\n",
       "    </tr>\n",
       "    <tr>\n",
       "      <th>法人名</th>\n",
       "      <td>0.737705</td>\n",
       "      <td>0.555556</td>\n",
       "      <td>0.633803</td>\n",
       "      <td>162.000000</td>\n",
       "    </tr>\n",
       "    <tr>\n",
       "      <th>製品名</th>\n",
       "      <td>0.649123</td>\n",
       "      <td>0.462500</td>\n",
       "      <td>0.540146</td>\n",
       "      <td>80.000000</td>\n",
       "    </tr>\n",
       "    <tr>\n",
       "      <th>accuracy</th>\n",
       "      <td>0.530565</td>\n",
       "      <td>0.530565</td>\n",
       "      <td>0.530565</td>\n",
       "      <td>0.530565</td>\n",
       "    </tr>\n",
       "    <tr>\n",
       "      <th>macro avg</th>\n",
       "      <td>0.679911</td>\n",
       "      <td>0.468147</td>\n",
       "      <td>0.552357</td>\n",
       "      <td>867.000000</td>\n",
       "    </tr>\n",
       "    <tr>\n",
       "      <th>weighted avg</th>\n",
       "      <td>0.771266</td>\n",
       "      <td>0.530565</td>\n",
       "      <td>0.626538</td>\n",
       "      <td>867.000000</td>\n",
       "    </tr>\n",
       "  </tbody>\n",
       "</table>\n",
       "</div>"
      ],
      "text/plain": [
       "              precision    recall  f1-score     support\n",
       "その他の組織名        0.625000  0.468750  0.535714   64.000000\n",
       "イベント名          0.875000  0.546875  0.673077   64.000000\n",
       "人名             0.776119  0.565217  0.654088  184.000000\n",
       "地名             0.843750  0.509434  0.635294  159.000000\n",
       "政治的組織名         0.800000  0.656716  0.721311   67.000000\n",
       "施設名            0.812500  0.448276  0.577778   87.000000\n",
       "法人名            0.737705  0.555556  0.633803  162.000000\n",
       "製品名            0.649123  0.462500  0.540146   80.000000\n",
       "accuracy       0.530565  0.530565  0.530565    0.530565\n",
       "macro avg      0.679911  0.468147  0.552357  867.000000\n",
       "weighted avg   0.771266  0.530565  0.626538  867.000000"
      ]
     },
     "execution_count": 43,
     "metadata": {},
     "output_type": "execute_result"
    }
   ],
   "source": [
    "y_true = valid_model_pred_df['ent_type'].values\n",
    "y_pred = valid_model_pred_df['model_pred'].values\n",
    "\n",
    "valid_eval_report = evaluation_report(y_true, y_pred)\n",
    "valid_eval_report[1:]"
   ]
  },
  {
   "cell_type": "code",
   "execution_count": 47,
   "metadata": {
    "colab": {
     "base_uri": "https://localhost:8080/",
     "height": 520
    },
    "id": "c8LEYGuvKjzT",
    "outputId": "0f6ce02f-346b-446f-ac63-c262dee92d43"
   },
   "outputs": [
    {
     "data": {
      "image/png": "[encoded data removed]",
      "text/plain": [
       "<Figure size 1008x576 with 2 Axes>"
      ]
     },
     "metadata": {
      "needs_background": "light"
     },
     "output_type": "display_data"
    }
   ],
   "source": [
    "eval_heatmap(valid_eval_report[['precision', 'recall', 'f1-score']][1:])"
   ]
  },
  {
   "cell_type": "code",
   "execution_count": 48,
   "metadata": {},
   "outputs": [
    {
     "data": {
      "text/html": [
       "<div>\n",
       "<style scoped>\n",
       "    .dataframe tbody tr th:only-of-type {\n",
       "        vertical-align: middle;\n",
       "    }\n",
       "\n",
       "    .dataframe tbody tr th {\n",
       "        vertical-align: top;\n",
       "    }\n",
       "\n",
       "    .dataframe thead th {\n",
       "        text-align: right;\n",
       "    }\n",
       "</style>\n",
       "<table border=\"1\" class=\"dataframe\">\n",
       "  <thead>\n",
       "    <tr style=\"text-align: right;\">\n",
       "      <th></th>\n",
       "      <th>precision</th>\n",
       "      <th>recall</th>\n",
       "      <th>f1-score</th>\n",
       "      <th>support</th>\n",
       "    </tr>\n",
       "  </thead>\n",
       "  <tbody>\n",
       "    <tr>\n",
       "      <th>その他の組織名</th>\n",
       "      <td>0.973783</td>\n",
       "      <td>0.790274</td>\n",
       "      <td>0.872483</td>\n",
       "      <td>987.000000</td>\n",
       "    </tr>\n",
       "    <tr>\n",
       "      <th>イベント名</th>\n",
       "      <td>0.988971</td>\n",
       "      <td>0.853968</td>\n",
       "      <td>0.916525</td>\n",
       "      <td>945.000000</td>\n",
       "    </tr>\n",
       "    <tr>\n",
       "      <th>人名</th>\n",
       "      <td>0.995360</td>\n",
       "      <td>0.920601</td>\n",
       "      <td>0.956522</td>\n",
       "      <td>2796.000000</td>\n",
       "    </tr>\n",
       "    <tr>\n",
       "      <th>地名</th>\n",
       "      <td>0.993396</td>\n",
       "      <td>0.527027</td>\n",
       "      <td>0.688685</td>\n",
       "      <td>1998.000000</td>\n",
       "    </tr>\n",
       "    <tr>\n",
       "      <th>政治的組織名</th>\n",
       "      <td>0.988432</td>\n",
       "      <td>0.690925</td>\n",
       "      <td>0.813326</td>\n",
       "      <td>1113.000000</td>\n",
       "    </tr>\n",
       "    <tr>\n",
       "      <th>施設名</th>\n",
       "      <td>0.995889</td>\n",
       "      <td>0.949070</td>\n",
       "      <td>0.971916</td>\n",
       "      <td>1021.000000</td>\n",
       "    </tr>\n",
       "    <tr>\n",
       "      <th>法人名</th>\n",
       "      <td>0.993271</td>\n",
       "      <td>0.826087</td>\n",
       "      <td>0.901998</td>\n",
       "      <td>2323.000000</td>\n",
       "    </tr>\n",
       "    <tr>\n",
       "      <th>製品名</th>\n",
       "      <td>0.992509</td>\n",
       "      <td>0.933921</td>\n",
       "      <td>0.962324</td>\n",
       "      <td>1135.000000</td>\n",
       "    </tr>\n",
       "    <tr>\n",
       "      <th>accuracy</th>\n",
       "      <td>0.806219</td>\n",
       "      <td>0.806219</td>\n",
       "      <td>0.806219</td>\n",
       "      <td>0.806219</td>\n",
       "    </tr>\n",
       "    <tr>\n",
       "      <th>macro avg</th>\n",
       "      <td>0.880179</td>\n",
       "      <td>0.721319</td>\n",
       "      <td>0.787087</td>\n",
       "      <td>12318.000000</td>\n",
       "    </tr>\n",
       "    <tr>\n",
       "      <th>weighted avg</th>\n",
       "      <td>0.991584</td>\n",
       "      <td>0.806219</td>\n",
       "      <td>0.881866</td>\n",
       "      <td>12318.000000</td>\n",
       "    </tr>\n",
       "  </tbody>\n",
       "</table>\n",
       "</div>"
      ],
      "text/plain": [
       "              precision    recall  f1-score       support\n",
       "その他の組織名        0.973783  0.790274  0.872483    987.000000\n",
       "イベント名          0.988971  0.853968  0.916525    945.000000\n",
       "人名             0.995360  0.920601  0.956522   2796.000000\n",
       "地名             0.993396  0.527027  0.688685   1998.000000\n",
       "政治的組織名         0.988432  0.690925  0.813326   1113.000000\n",
       "施設名            0.995889  0.949070  0.971916   1021.000000\n",
       "法人名            0.993271  0.826087  0.901998   2323.000000\n",
       "製品名            0.992509  0.933921  0.962324   1135.000000\n",
       "accuracy       0.806219  0.806219  0.806219      0.806219\n",
       "macro avg      0.880179  0.721319  0.787087  12318.000000\n",
       "weighted avg   0.991584  0.806219  0.881866  12318.000000"
      ]
     },
     "execution_count": 48,
     "metadata": {},
     "output_type": "execute_result"
    }
   ],
   "source": [
    "## Test with training data\n",
    "table_data = ner_text_data[:train_len]\n",
    "train_data = train_data\n",
    "## Call model pred function\n",
    "train_model_pred_df = mode_predition_data(my_trained_ner_nlp, table_data, train_data)\n",
    "\n",
    "y_true = train_model_pred_df['ent_type'].values\n",
    "y_pred = train_model_pred_df['model_pred'].values\n",
    "\n",
    "tarin_eval_report = evaluation_report(y_true, y_pred)\n",
    "tarin_eval_report[1:]"
   ]
  },
  {
   "cell_type": "code",
   "execution_count": 49,
   "metadata": {},
   "outputs": [
    {
     "data": {
      "image/png": "[encoded data removed]",
      "text/plain": [
       "<Figure size 1008x576 with 2 Axes>"
      ]
     },
     "metadata": {
      "needs_background": "light"
     },
     "output_type": "display_data"
    }
   ],
   "source": [
    "eval_heatmap(tarin_eval_report[['precision', 'recall', 'f1-score']][1:])"
   ]
  },
  {
   "cell_type": "code",
   "execution_count": 54,
   "metadata": {
    "id": "ul_1dp00KZvG"
   },
   "outputs": [],
   "source": [
    "## Save training and validate data\n",
    "#valid_model_pred_df.to_csv('model csv/valid_prediction_data.csv')\n",
    "#train_model_pred_df.to_csv('model csv/train_prediction_data.csv')\n",
    "\n",
    "## Save training and validate evaluation\n",
    "#valid_eval_report[1:].to_csv('model csv/valid_eval_report.csv')\n",
    "#train_eval_report[1:].to_csv('model csv/train_eval_report.csv')"
   ]
  },
  {
   "cell_type": "code",
   "execution_count": 51,
   "metadata": {
    "id": "1KquhwqJNmZQ"
   },
   "outputs": [],
   "source": [
    "## Predict from our trained model and check the entities\n",
    "entities = model_pred_df['ent_type'].unique()\n",
    "colors = {'イベント名': \"#FF6347\", '製品名': \"#00FFFF\", '地名': \"#F9B7FF\", '施設名': \"#00FF00\", 'その他の組織名': \"#FFA500\", '人名': \"#bf00ff\", '政治的組織名': \"#FFFF00\", '法人名': \"#7FFFD4\",}\n",
    "options = {\"ents\": ['イベント名', '製品名', '地名', '施設名', 'その他の組織名', '人名', '政治的組織名', '法人名'], \"colors\": colors}\n",
    "\n",
    "def data_predict(nlp, data):\n",
    "  for text,_ in data:\n",
    "    doc = nlp(text)\n",
    "    #print(\"Entities\", [(ent.text, ent.label_) for ent in doc.ents])\n",
    "    displacy.render(nlp(doc.text), style='ent', options=options, jupyter=True)"
   ]
  },
  {
   "cell_type": "code",
   "execution_count": 52,
   "metadata": {
    "colab": {
     "base_uri": "https://localhost:8080/",
     "height": 1000
    },
    "id": "TBAvX0onOs0G",
    "outputId": "c02e6a06-5f28-4104-9f09-47e1f76a5c8c"
   },
   "outputs": [
    {
     "data": {
      "text/html": [
       "<span class=\"tex2jax_ignore\"><div class=\"entities\" style=\"line-height: 2.5; direction: ltr\">\n",
       "<mark class=\"entity\" style=\"background: #00FFFF; padding: 0.45em 0.6em; margin: 0 0.25em; line-height: 1; border-radius: 0.35em;\">\n",
       "    Google Summer of Code Project in 2005\n",
       "    <span style=\"font-size: 0.8em; font-weight: bold; line-height: 1; border-radius: 0.35em; vertical-align: middle; margin-left: 0.5rem\">製品名</span>\n",
       "</mark>\n",
       "の一環としてFreeBSDに移植された。</div></span>"
      ],
      "text/plain": [
       "<IPython.core.display.HTML object>"
      ]
     },
     "metadata": {},
     "output_type": "display_data"
    },
    {
     "data": {
      "text/html": [
       "<span class=\"tex2jax_ignore\"><div class=\"entities\" style=\"line-height: 2.5; direction: ltr\">1973年、\n",
       "<mark class=\"entity\" style=\"background: #F9B7FF; padding: 0.45em 0.6em; margin: 0 0.25em; line-height: 1; border-radius: 0.35em;\">\n",
       "    バターン州\n",
       "    <span style=\"font-size: 0.8em; font-weight: bold; line-height: 1; border-radius: 0.35em; vertical-align: middle; margin-left: 0.5rem\">地名</span>\n",
       "</mark>\n",
       "を代表して&quot;\n",
       "<mark class=\"entity\" style=\"background: #00FFFF; padding: 0.45em 0.6em; margin: 0 0.25em; line-height: 1; border-radius: 0.35em;\">\n",
       "    Miss Republic of the Philippines 1973\n",
       "    <span style=\"font-size: 0.8em; font-weight: bold; line-height: 1; border-radius: 0.35em; vertical-align: middle; margin-left: 0.5rem\">製品名</span>\n",
       "</mark>\n",
       "&quot;に出場。</div></span>"
      ],
      "text/plain": [
       "<IPython.core.display.HTML object>"
      ]
     },
     "metadata": {},
     "output_type": "display_data"
    },
    {
     "data": {
      "text/html": [
       "<span class=\"tex2jax_ignore\"><div class=\"entities\" style=\"line-height: 2.5; direction: ltr\">州大会優勝を受けて、\n",
       "<mark class=\"entity\" style=\"background: #7FFFD4; padding: 0.45em 0.6em; margin: 0 0.25em; line-height: 1; border-radius: 0.35em;\">\n",
       "    ミス・ティーンUSA2002\n",
       "    <span style=\"font-size: 0.8em; font-weight: bold; line-height: 1; border-radius: 0.35em; vertical-align: middle; margin-left: 0.5rem\">法人名</span>\n",
       "</mark>\n",
       "に出場し、\n",
       "<mark class=\"entity\" style=\"background: #00FFFF; padding: 0.45em 0.6em; margin: 0 0.25em; line-height: 1; border-radius: 0.35em;\">\n",
       "    TOP10\n",
       "    <span style=\"font-size: 0.8em; font-weight: bold; line-height: 1; border-radius: 0.35em; vertical-align: middle; margin-left: 0.5rem\">製品名</span>\n",
       "</mark>\n",
       "に選ばれる健闘だったほか、ミス・フォトジェニック賞を受賞した。</div></span>"
      ],
      "text/plain": [
       "<IPython.core.display.HTML object>"
      ]
     },
     "metadata": {},
     "output_type": "display_data"
    },
    {
     "data": {
      "text/html": [
       "<span class=\"tex2jax_ignore\"><div class=\"entities\" style=\"line-height: 2.5; direction: ltr\">1階にある「\n",
       "<mark class=\"entity\" style=\"background: #00FF00; padding: 0.45em 0.6em; margin: 0 0.25em; line-height: 1; border-radius: 0.35em;\">\n",
       "    ジーコ広場\n",
       "    <span style=\"font-size: 0.8em; font-weight: bold; line-height: 1; border-radius: 0.35em; vertical-align: middle; margin-left: 0.5rem\">施設名</span>\n",
       "</mark>\n",
       "」には、\n",
       "<mark class=\"entity\" style=\"background: #FFA500; padding: 0.45em 0.6em; margin: 0 0.25em; line-height: 1; border-radius: 0.35em;\">\n",
       "    鹿島アントラーズ\n",
       "    <span style=\"font-size: 0.8em; font-weight: bold; line-height: 1; border-radius: 0.35em; vertical-align: middle; margin-left: 0.5rem\">その他の組織名</span>\n",
       "</mark>\n",
       "に所属していたジーコの\n",
       "<mark class=\"entity\" style=\"background: #bf00ff; padding: 0.45em 0.6em; margin: 0 0.25em; line-height: 1; border-radius: 0.35em;\">\n",
       "    ブロンズ\n",
       "    <span style=\"font-size: 0.8em; font-weight: bold; line-height: 1; border-radius: 0.35em; vertical-align: middle; margin-left: 0.5rem\">人名</span>\n",
       "</mark>\n",
       "像や直筆の特大サイン、\n",
       "<mark class=\"entity\" style=\"background: #FFA500; padding: 0.45em 0.6em; margin: 0 0.25em; line-height: 1; border-radius: 0.35em;\">\n",
       "    アントラーズ\n",
       "    <span style=\"font-size: 0.8em; font-weight: bold; line-height: 1; border-radius: 0.35em; vertical-align: middle; margin-left: 0.5rem\">その他の組織名</span>\n",
       "</mark>\n",
       "に在籍した\n",
       "<mark class=\"entity\" style=\"background: #F9B7FF; padding: 0.45em 0.6em; margin: 0 0.25em; line-height: 1; border-radius: 0.35em;\">\n",
       "    ブラジル\n",
       "    <span style=\"font-size: 0.8em; font-weight: bold; line-height: 1; border-radius: 0.35em; vertical-align: middle; margin-left: 0.5rem\">地名</span>\n",
       "</mark>\n",
       "人選手のサイン寄せ書きが壁面に設置されている。</div></span>"
      ],
      "text/plain": [
       "<IPython.core.display.HTML object>"
      ]
     },
     "metadata": {},
     "output_type": "display_data"
    },
    {
     "data": {
      "text/html": [
       "<span class=\"tex2jax_ignore\"><div class=\"entities\" style=\"line-height: 2.5; direction: ltr\">そのテーマソングの作詞者は前田武彦である。</div></span>"
      ],
      "text/plain": [
       "<IPython.core.display.HTML object>"
      ]
     },
     "metadata": {},
     "output_type": "display_data"
    },
    {
     "data": {
      "text/html": [
       "<span class=\"tex2jax_ignore\"><div class=\"entities\" style=\"line-height: 2.5; direction: ltr\">初代庁舎は\n",
       "<mark class=\"entity\" style=\"background: #F9B7FF; padding: 0.45em 0.6em; margin: 0 0.25em; line-height: 1; border-radius: 0.35em;\">\n",
       "    西成区今宮国民学校\n",
       "    <span style=\"font-size: 0.8em; font-weight: bold; line-height: 1; border-radius: 0.35em; vertical-align: middle; margin-left: 0.5rem\">地名</span>\n",
       "</mark>\n",
       "・\n",
       "<mark class=\"entity\" style=\"background: #FFFF00; padding: 0.45em 0.6em; margin: 0 0.25em; line-height: 1; border-radius: 0.35em;\">\n",
       "    大正区中泉尾国民学校\n",
       "    <span style=\"font-size: 0.8em; font-weight: bold; line-height: 1; border-radius: 0.35em; vertical-align: middle; margin-left: 0.5rem\">政治的組織名</span>\n",
       "</mark>\n",
       "の元校舎などを転用して建設されている。</div></span>"
      ],
      "text/plain": [
       "<IPython.core.display.HTML object>"
      ]
     },
     "metadata": {},
     "output_type": "display_data"
    },
    {
     "data": {
      "text/html": [
       "<span class=\"tex2jax_ignore\"><div class=\"entities\" style=\"line-height: 2.5; direction: ltr\">2018年9月30日の知事選挙では\n",
       "<mark class=\"entity\" style=\"background: #00FF00; padding: 0.45em 0.6em; margin: 0 0.25em; line-height: 1; border-radius: 0.35em;\">\n",
       "    玉城デニー\n",
       "    <span style=\"font-size: 0.8em; font-weight: bold; line-height: 1; border-radius: 0.35em; vertical-align: middle; margin-left: 0.5rem\">施設名</span>\n",
       "</mark>\n",
       "が当選し、10月1日に\n",
       "<mark class=\"entity\" style=\"background: #7FFFD4; padding: 0.45em 0.6em; margin: 0 0.25em; line-height: 1; border-radius: 0.35em;\">\n",
       "    玉城\n",
       "    <span style=\"font-size: 0.8em; font-weight: bold; line-height: 1; border-radius: 0.35em; vertical-align: middle; margin-left: 0.5rem\">法人名</span>\n",
       "</mark>\n",
       "は謝花を副知事として続投させると発表した。</div></span>"
      ],
      "text/plain": [
       "<IPython.core.display.HTML object>"
      ]
     },
     "metadata": {},
     "output_type": "display_data"
    },
    {
     "data": {
      "text/html": [
       "<span class=\"tex2jax_ignore\"><div class=\"entities\" style=\"line-height: 2.5; direction: ltr\">\n",
       "<mark class=\"entity\" style=\"background: #00FF00; padding: 0.45em 0.6em; margin: 0 0.25em; line-height: 1; border-radius: 0.35em;\">\n",
       "    永泰荘駅\n",
       "    <span style=\"font-size: 0.8em; font-weight: bold; line-height: 1; border-radius: 0.35em; vertical-align: middle; margin-left: 0.5rem\">施設名</span>\n",
       "</mark>\n",
       "は、\n",
       "<mark class=\"entity\" style=\"background: #F9B7FF; padding: 0.45em 0.6em; margin: 0 0.25em; line-height: 1; border-radius: 0.35em;\">\n",
       "    中華人民共和国北京市海淀区\n",
       "    <span style=\"font-size: 0.8em; font-weight: bold; line-height: 1; border-radius: 0.35em; vertical-align: middle; margin-left: 0.5rem\">地名</span>\n",
       "</mark>\n",
       "に位置する\n",
       "<mark class=\"entity\" style=\"background: #00FF00; padding: 0.45em 0.6em; margin: 0 0.25em; line-height: 1; border-radius: 0.35em;\">\n",
       "    北京地下鉄8号線\n",
       "    <span style=\"font-size: 0.8em; font-weight: bold; line-height: 1; border-radius: 0.35em; vertical-align: middle; margin-left: 0.5rem\">施設名</span>\n",
       "</mark>\n",
       "の駅である。</div></span>"
      ],
      "text/plain": [
       "<IPython.core.display.HTML object>"
      ]
     },
     "metadata": {},
     "output_type": "display_data"
    },
    {
     "data": {
      "text/html": [
       "<span class=\"tex2jax_ignore\"><div class=\"entities\" style=\"line-height: 2.5; direction: ltr\">その落ち着いた雰囲気から、同僚・後輩アナウンサーからは「\n",
       "<mark class=\"entity\" style=\"background: #00FFFF; padding: 0.45em 0.6em; margin: 0 0.25em; line-height: 1; border-radius: 0.35em;\">\n",
       "    お母さん\n",
       "    <span style=\"font-size: 0.8em; font-weight: bold; line-height: 1; border-radius: 0.35em; vertical-align: middle; margin-left: 0.5rem\">製品名</span>\n",
       "</mark>\n",
       "」と呼ばれ、親しまれた。</div></span>"
      ],
      "text/plain": [
       "<IPython.core.display.HTML object>"
      ]
     },
     "metadata": {},
     "output_type": "display_data"
    },
    {
     "data": {
      "text/html": [
       "<span class=\"tex2jax_ignore\"><div class=\"entities\" style=\"line-height: 2.5; direction: ltr\">空港名は\n",
       "<mark class=\"entity\" style=\"background: #FF6347; padding: 0.45em 0.6em; margin: 0 0.25em; line-height: 1; border-radius: 0.35em;\">\n",
       "    第一次世界大戦\n",
       "    <span style=\"font-size: 0.8em; font-weight: bold; line-height: 1; border-radius: 0.35em; vertical-align: middle; margin-left: 0.5rem\">イベント名</span>\n",
       "</mark>\n",
       "時の\n",
       "<mark class=\"entity\" style=\"background: #F9B7FF; padding: 0.45em 0.6em; margin: 0 0.25em; line-height: 1; border-radius: 0.35em;\">\n",
       "    スロバキア\n",
       "    <span style=\"font-size: 0.8em; font-weight: bold; line-height: 1; border-radius: 0.35em; vertical-align: middle; margin-left: 0.5rem\">地名</span>\n",
       "</mark>\n",
       "人軍人で、1919年に\n",
       "<mark class=\"entity\" style=\"background: #7FFFD4; padding: 0.45em 0.6em; margin: 0 0.25em; line-height: 1; border-radius: 0.35em;\">\n",
       "    ブラチスラヴァ\n",
       "    <span style=\"font-size: 0.8em; font-weight: bold; line-height: 1; border-radius: 0.35em; vertical-align: middle; margin-left: 0.5rem\">法人名</span>\n",
       "</mark>\n",
       "近郊で搭乗の\n",
       "<mark class=\"entity\" style=\"background: #FFFF00; padding: 0.45em 0.6em; margin: 0 0.25em; line-height: 1; border-radius: 0.35em;\">\n",
       "    イタリア軍\n",
       "    <span style=\"font-size: 0.8em; font-weight: bold; line-height: 1; border-radius: 0.35em; vertical-align: middle; margin-left: 0.5rem\">政治的組織名</span>\n",
       "</mark>\n",
       "機が墜落して死亡した\n",
       "<mark class=\"entity\" style=\"background: #bf00ff; padding: 0.45em 0.6em; margin: 0 0.25em; line-height: 1; border-radius: 0.35em;\">\n",
       "    ミラン・ラスチスラウ・シュテファーニク\n",
       "    <span style=\"font-size: 0.8em; font-weight: bold; line-height: 1; border-radius: 0.35em; vertical-align: middle; margin-left: 0.5rem\">人名</span>\n",
       "</mark>\n",
       "にちなむ。</div></span>"
      ],
      "text/plain": [
       "<IPython.core.display.HTML object>"
      ]
     },
     "metadata": {},
     "output_type": "display_data"
    },
    {
     "data": {
      "text/html": [
       "<span class=\"tex2jax_ignore\"><div class=\"entities\" style=\"line-height: 2.5; direction: ltr\">しかし\n",
       "<mark class=\"entity\" style=\"background: #FFFF00; padding: 0.45em 0.6em; margin: 0 0.25em; line-height: 1; border-radius: 0.35em;\">\n",
       "    日本政府\n",
       "    <span style=\"font-size: 0.8em; font-weight: bold; line-height: 1; border-radius: 0.35em; vertical-align: middle; margin-left: 0.5rem\">政治的組織名</span>\n",
       "</mark>\n",
       "が\n",
       "<mark class=\"entity\" style=\"background: #F9B7FF; padding: 0.45em 0.6em; margin: 0 0.25em; line-height: 1; border-radius: 0.35em;\">\n",
       "    ソ連\n",
       "    <span style=\"font-size: 0.8em; font-weight: bold; line-height: 1; border-radius: 0.35em; vertical-align: middle; margin-left: 0.5rem\">地名</span>\n",
       "</mark>\n",
       "の対日宣戦の事実を知ったのは、9日午前4時に\n",
       "<mark class=\"entity\" style=\"background: #F9B7FF; padding: 0.45em 0.6em; margin: 0 0.25em; line-height: 1; border-radius: 0.35em;\">\n",
       "    ソ連\n",
       "    <span style=\"font-size: 0.8em; font-weight: bold; line-height: 1; border-radius: 0.35em; vertical-align: middle; margin-left: 0.5rem\">地名</span>\n",
       "</mark>\n",
       "のタス通信がその事実を報じ始めてからで、\n",
       "<mark class=\"entity\" style=\"background: #FFFF00; padding: 0.45em 0.6em; margin: 0 0.25em; line-height: 1; border-radius: 0.35em;\">\n",
       "    外務省\n",
       "    <span style=\"font-size: 0.8em; font-weight: bold; line-height: 1; border-radius: 0.35em; vertical-align: middle; margin-left: 0.5rem\">政治的組織名</span>\n",
       "</mark>\n",
       "では午前5時頃に\n",
       "<mark class=\"entity\" style=\"background: #bf00ff; padding: 0.45em 0.6em; margin: 0 0.25em; line-height: 1; border-radius: 0.35em;\">\n",
       "    東郷\n",
       "    <span style=\"font-size: 0.8em; font-weight: bold; line-height: 1; border-radius: 0.35em; vertical-align: middle; margin-left: 0.5rem\">人名</span>\n",
       "</mark>\n",
       "外相に報告が上げられた。</div></span>"
      ],
      "text/plain": [
       "<IPython.core.display.HTML object>"
      ]
     },
     "metadata": {},
     "output_type": "display_data"
    },
    {
     "data": {
      "text/html": [
       "<span class=\"tex2jax_ignore\"><div class=\"entities\" style=\"line-height: 2.5; direction: ltr\">製作はトミーだが、元は1987年に食玩として\n",
       "<mark class=\"entity\" style=\"background: #7FFFD4; padding: 0.45em 0.6em; margin: 0 0.25em; line-height: 1; border-radius: 0.35em;\">\n",
       "    森永製菓\n",
       "    <span style=\"font-size: 0.8em; font-weight: bold; line-height: 1; border-radius: 0.35em; vertical-align: middle; margin-left: 0.5rem\">法人名</span>\n",
       "</mark>\n",
       "より、第一弾・第二弾の16種類が発売されていた。</div></span>"
      ],
      "text/plain": [
       "<IPython.core.display.HTML object>"
      ]
     },
     "metadata": {},
     "output_type": "display_data"
    },
    {
     "data": {
      "text/html": [
       "<span class=\"tex2jax_ignore\"><div class=\"entities\" style=\"line-height: 2.5; direction: ltr\">1946年8月、戦後復興の物資の生産・配給を行う船舶公団の設立にかかわり、計画造船を実施する。</div></span>"
      ],
      "text/plain": [
       "<IPython.core.display.HTML object>"
      ]
     },
     "metadata": {},
     "output_type": "display_data"
    },
    {
     "data": {
      "text/html": [
       "<span class=\"tex2jax_ignore\"><div class=\"entities\" style=\"line-height: 2.5; direction: ltr\">なお、永井岩之丞の同僚・\n",
       "<mark class=\"entity\" style=\"background: #bf00ff; padding: 0.45em 0.6em; margin: 0 0.25em; line-height: 1; border-radius: 0.35em;\">\n",
       "    柳田\n",
       "    <span style=\"font-size: 0.8em; font-weight: bold; line-height: 1; border-radius: 0.35em; vertical-align: middle; margin-left: 0.5rem\">人名</span>\n",
       "</mark>\n",
       "直平の養子が\n",
       "<mark class=\"entity\" style=\"background: #bf00ff; padding: 0.45em 0.6em; margin: 0 0.25em; line-height: 1; border-radius: 0.35em;\">\n",
       "    柳田国男\n",
       "    <span style=\"font-size: 0.8em; font-weight: bold; line-height: 1; border-radius: 0.35em; vertical-align: middle; margin-left: 0.5rem\">人名</span>\n",
       "</mark>\n",
       "で、平岡定太郎と同じ\n",
       "<mark class=\"entity\" style=\"background: #F9B7FF; padding: 0.45em 0.6em; margin: 0 0.25em; line-height: 1; border-radius: 0.35em;\">\n",
       "    兵庫県\n",
       "    <span style=\"font-size: 0.8em; font-weight: bold; line-height: 1; border-radius: 0.35em; vertical-align: middle; margin-left: 0.5rem\">地名</span>\n",
       "</mark>\n",
       "出身という縁もあった\n",
       "<mark class=\"entity\" style=\"background: #bf00ff; padding: 0.45em 0.6em; margin: 0 0.25em; line-height: 1; border-radius: 0.35em;\">\n",
       "    柳田国男\n",
       "    <span style=\"font-size: 0.8em; font-weight: bold; line-height: 1; border-radius: 0.35em; vertical-align: middle; margin-left: 0.5rem\">人名</span>\n",
       "</mark>\n",
       "は、夏子の家庭とは早くから交流があった。</div></span>"
      ],
      "text/plain": [
       "<IPython.core.display.HTML object>"
      ]
     },
     "metadata": {},
     "output_type": "display_data"
    },
    {
     "data": {
      "text/html": [
       "<span class=\"tex2jax_ignore\"><div class=\"entities\" style=\"line-height: 2.5; direction: ltr\">\n",
       "<mark class=\"entity\" style=\"background: #FF6347; padding: 0.45em 0.6em; margin: 0 0.25em; line-height: 1; border-radius: 0.35em;\">\n",
       "    第二次世界大戦\n",
       "    <span style=\"font-size: 0.8em; font-weight: bold; line-height: 1; border-radius: 0.35em; vertical-align: middle; margin-left: 0.5rem\">イベント名</span>\n",
       "</mark>\n",
       "後、\n",
       "<mark class=\"entity\" style=\"background: #00FF00; padding: 0.45em 0.6em; margin: 0 0.25em; line-height: 1; border-radius: 0.35em;\">\n",
       "    旧・海軍大学校\n",
       "    <span style=\"font-size: 0.8em; font-weight: bold; line-height: 1; border-radius: 0.35em; vertical-align: middle; margin-left: 0.5rem\">施設名</span>\n",
       "</mark>\n",
       "の跡地を\n",
       "<mark class=\"entity\" style=\"background: #7FFFD4; padding: 0.45em 0.6em; margin: 0 0.25em; line-height: 1; border-radius: 0.35em;\">\n",
       "    毎日新聞社\n",
       "    <span style=\"font-size: 0.8em; font-weight: bold; line-height: 1; border-radius: 0.35em; vertical-align: middle; margin-left: 0.5rem\">法人名</span>\n",
       "</mark>\n",
       "が\n",
       "<mark class=\"entity\" style=\"background: #7FFFD4; padding: 0.45em 0.6em; margin: 0 0.25em; line-height: 1; border-radius: 0.35em;\">\n",
       "    払い下げ\n",
       "    <span style=\"font-size: 0.8em; font-weight: bold; line-height: 1; border-radius: 0.35em; vertical-align: middle; margin-left: 0.5rem\">法人名</span>\n",
       "</mark>\n",
       "を受け、子会社の\n",
       "<mark class=\"entity\" style=\"background: #7FFFD4; padding: 0.45em 0.6em; margin: 0 0.25em; line-height: 1; border-radius: 0.35em;\">\n",
       "    東日興業\n",
       "    <span style=\"font-size: 0.8em; font-weight: bold; line-height: 1; border-radius: 0.35em; vertical-align: middle; margin-left: 0.5rem\">法人名</span>\n",
       "</mark>\n",
       "が\n",
       "<mark class=\"entity\" style=\"background: #7FFFD4; padding: 0.45em 0.6em; margin: 0 0.25em; line-height: 1; border-radius: 0.35em;\">\n",
       "    東日興業スタジオ\n",
       "    <span style=\"font-size: 0.8em; font-weight: bold; line-height: 1; border-radius: 0.35em; vertical-align: middle; margin-left: 0.5rem\">法人名</span>\n",
       "</mark>\n",
       "として稼動していた撮影所を、1952年に\n",
       "<mark class=\"entity\" style=\"background: #7FFFD4; padding: 0.45em 0.6em; margin: 0 0.25em; line-height: 1; border-radius: 0.35em;\">\n",
       "    東宝\n",
       "    <span style=\"font-size: 0.8em; font-weight: bold; line-height: 1; border-radius: 0.35em; vertical-align: middle; margin-left: 0.5rem\">法人名</span>\n",
       "</mark>\n",
       "が同社を買収して設立した\n",
       "<mark class=\"entity\" style=\"background: #FFA500; padding: 0.45em 0.6em; margin: 0 0.25em; line-height: 1; border-radius: 0.35em;\">\n",
       "    東京映画\n",
       "    <span style=\"font-size: 0.8em; font-weight: bold; line-height: 1; border-radius: 0.35em; vertical-align: middle; margin-left: 0.5rem\">その他の組織名</span>\n",
       "</mark>\n",
       "が\n",
       "<mark class=\"entity\" style=\"background: #00FF00; padding: 0.45em 0.6em; margin: 0 0.25em; line-height: 1; border-radius: 0.35em;\">\n",
       "    東京映画撮影所\n",
       "    <span style=\"font-size: 0.8em; font-weight: bold; line-height: 1; border-radius: 0.35em; vertical-align: middle; margin-left: 0.5rem\">施設名</span>\n",
       "</mark>\n",
       "として新たに開所した。</div></span>"
      ],
      "text/plain": [
       "<IPython.core.display.HTML object>"
      ]
     },
     "metadata": {},
     "output_type": "display_data"
    },
    {
     "data": {
      "text/html": [
       "<span class=\"tex2jax_ignore\"><div class=\"entities\" style=\"line-height: 2.5; direction: ltr\">\n",
       "<mark class=\"entity\" style=\"background: #bf00ff; padding: 0.45em 0.6em; margin: 0 0.25em; line-height: 1; border-radius: 0.35em;\">\n",
       "    廣野翔太\n",
       "    <span style=\"font-size: 0.8em; font-weight: bold; line-height: 1; border-radius: 0.35em; vertical-align: middle; margin-left: 0.5rem\">人名</span>\n",
       "</mark>\n",
       "は、トップチャレンジリーグ豊田自動\n",
       "<mark class=\"entity\" style=\"background: #00FF00; padding: 0.45em 0.6em; margin: 0 0.25em; line-height: 1; border-radius: 0.35em;\">\n",
       "    織機シャトルズ\n",
       "    <span style=\"font-size: 0.8em; font-weight: bold; line-height: 1; border-radius: 0.35em; vertical-align: middle; margin-left: 0.5rem\">施設名</span>\n",
       "</mark>\n",
       "に所属するラグビー選手。</div></span>"
      ],
      "text/plain": [
       "<IPython.core.display.HTML object>"
      ]
     },
     "metadata": {},
     "output_type": "display_data"
    },
    {
     "data": {
      "text/html": [
       "<span class=\"tex2jax_ignore\"><div class=\"entities\" style=\"line-height: 2.5; direction: ltr\">そして、戻り値の型が\n",
       "<mark class=\"entity\" style=\"background: #00FFFF; padding: 0.45em 0.6em; margin: 0 0.25em; line-height: 1; border-radius: 0.35em;\">\n",
       "    codice_6の関数\n",
       "    <span style=\"font-size: 0.8em; font-weight: bold; line-height: 1; border-radius: 0.35em; vertical-align: middle; margin-left: 0.5rem\">製品名</span>\n",
       "</mark>\n",
       "を与えると、やはり概念的には次のようになる。</div></span>"
      ],
      "text/plain": [
       "<IPython.core.display.HTML object>"
      ]
     },
     "metadata": {},
     "output_type": "display_data"
    },
    {
     "data": {
      "text/html": [
       "<span class=\"tex2jax_ignore\"><div class=\"entities\" style=\"line-height: 2.5; direction: ltr\">このようにモディは安倍と個人的な信頼関係があり、また、様々な点で安倍と共通点を有することから、モディが首相に就任した際、\n",
       "<mark class=\"entity\" style=\"background: #7FFFD4; padding: 0.45em 0.6em; margin: 0 0.25em; line-height: 1; border-radius: 0.35em;\">\n",
       "    プレジデント社\n",
       "    <span style=\"font-size: 0.8em; font-weight: bold; line-height: 1; border-radius: 0.35em; vertical-align: middle; margin-left: 0.5rem\">法人名</span>\n",
       "</mark>\n",
       "はWebサイト「\n",
       "<mark class=\"entity\" style=\"background: #00FFFF; padding: 0.45em 0.6em; margin: 0 0.25em; line-height: 1; border-radius: 0.35em;\">\n",
       "    PRESIDENT Online\n",
       "    <span style=\"font-size: 0.8em; font-weight: bold; line-height: 1; border-radius: 0.35em; vertical-align: middle; margin-left: 0.5rem\">製品名</span>\n",
       "</mark>\n",
       "」の記事でモディについて「\n",
       "<mark class=\"entity\" style=\"background: #F9B7FF; padding: 0.45em 0.6em; margin: 0 0.25em; line-height: 1; border-radius: 0.35em;\">\n",
       "    インド\n",
       "    <span style=\"font-size: 0.8em; font-weight: bold; line-height: 1; border-radius: 0.35em; vertical-align: middle; margin-left: 0.5rem\">地名</span>\n",
       "</mark>\n",
       "で誕生した「安倍派」の新首相」と表現している。</div></span>"
      ],
      "text/plain": [
       "<IPython.core.display.HTML object>"
      ]
     },
     "metadata": {},
     "output_type": "display_data"
    },
    {
     "data": {
      "text/html": [
       "<span class=\"tex2jax_ignore\"><div class=\"entities\" style=\"line-height: 2.5; direction: ltr\">ライト大将の\n",
       "<mark class=\"entity\" style=\"background: #bf00ff; padding: 0.45em 0.6em; margin: 0 0.25em; line-height: 1; border-radius: 0.35em;\">\n",
       "    レポート\n",
       "    <span style=\"font-size: 0.8em; font-weight: bold; line-height: 1; border-radius: 0.35em; vertical-align: middle; margin-left: 0.5rem\">人名</span>\n",
       "</mark>\n",
       "は作業停止の動機付けが「大きな畏怖」であったという彼の意見を加えた\n",
       "<mark class=\"entity\" style=\"background: #FFFF00; padding: 0.45em 0.6em; margin: 0 0.25em; line-height: 1; border-radius: 0.35em;\">\n",
       "    海軍\n",
       "    <span style=\"font-size: 0.8em; font-weight: bold; line-height: 1; border-radius: 0.35em; vertical-align: middle; margin-left: 0.5rem\">政治的組織名</span>\n",
       "</mark>\n",
       "長官\n",
       "<mark class=\"entity\" style=\"background: #bf00ff; padding: 0.45em 0.6em; margin: 0 0.25em; line-height: 1; border-radius: 0.35em;\">\n",
       "    ジェームズ・フォレスタル\n",
       "    <span style=\"font-size: 0.8em; font-weight: bold; line-height: 1; border-radius: 0.35em; vertical-align: middle; margin-left: 0.5rem\">人名</span>\n",
       "</mark>\n",
       "によって、\n",
       "<mark class=\"entity\" style=\"background: #bf00ff; padding: 0.45em 0.6em; margin: 0 0.25em; line-height: 1; border-radius: 0.35em;\">\n",
       "    フランクリン・D・ルーズベルト\n",
       "    <span style=\"font-size: 0.8em; font-weight: bold; line-height: 1; border-radius: 0.35em; vertical-align: middle; margin-left: 0.5rem\">人名</span>\n",
       "</mark>\n",
       "大統領に報告された。</div></span>"
      ],
      "text/plain": [
       "<IPython.core.display.HTML object>"
      ]
     },
     "metadata": {},
     "output_type": "display_data"
    },
    {
     "data": {
      "text/html": [
       "<span class=\"tex2jax_ignore\"><div class=\"entities\" style=\"line-height: 2.5; direction: ltr\">2014年、\n",
       "<mark class=\"entity\" style=\"background: #FFA500; padding: 0.45em 0.6em; margin: 0 0.25em; line-height: 1; border-radius: 0.35em;\">\n",
       "    アンディー・グラマー\n",
       "    <span style=\"font-size: 0.8em; font-weight: bold; line-height: 1; border-radius: 0.35em; vertical-align: middle; margin-left: 0.5rem\">その他の組織名</span>\n",
       "</mark>\n",
       "のMV「\n",
       "<mark class=\"entity\" style=\"background: #00FFFF; padding: 0.45em 0.6em; margin: 0 0.25em; line-height: 1; border-radius: 0.35em;\">\n",
       "    Honey, I'm Good\n",
       "    <span style=\"font-size: 0.8em; font-weight: bold; line-height: 1; border-radius: 0.35em; vertical-align: middle; margin-left: 0.5rem\">製品名</span>\n",
       "</mark>\n",
       "」にカメオ出演し、同年、今まで録音したカヴァー曲のいくつかをリリースした。</div></span>"
      ],
      "text/plain": [
       "<IPython.core.display.HTML object>"
      ]
     },
     "metadata": {},
     "output_type": "display_data"
    },
    {
     "data": {
      "text/html": [
       "<span class=\"tex2jax_ignore\"><div class=\"entities\" style=\"line-height: 2.5; direction: ltr\">本記事は主に公式サイトおよび\n",
       "<mark class=\"entity\" style=\"background: #7FFFD4; padding: 0.45em 0.6em; margin: 0 0.25em; line-height: 1; border-radius: 0.35em;\">\n",
       "    任天堂\n",
       "    <span style=\"font-size: 0.8em; font-weight: bold; line-height: 1; border-radius: 0.35em; vertical-align: middle; margin-left: 0.5rem\">法人名</span>\n",
       "</mark>\n",
       "が公開した動画を出典として記述している。</div></span>"
      ],
      "text/plain": [
       "<IPython.core.display.HTML object>"
      ]
     },
     "metadata": {},
     "output_type": "display_data"
    },
    {
     "data": {
      "text/html": [
       "<span class=\"tex2jax_ignore\"><div class=\"entities\" style=\"line-height: 2.5; direction: ltr\">その後建物は購入され、新たな所有者となった\n",
       "<mark class=\"entity\" style=\"background: #F9B7FF; padding: 0.45em 0.6em; margin: 0 0.25em; line-height: 1; border-radius: 0.35em;\">\n",
       "    イギリス\n",
       "    <span style=\"font-size: 0.8em; font-weight: bold; line-height: 1; border-radius: 0.35em; vertical-align: middle; margin-left: 0.5rem\">地名</span>\n",
       "</mark>\n",
       "の小さな不動産会社、\n",
       "<mark class=\"entity\" style=\"background: #7FFFD4; padding: 0.45em 0.6em; margin: 0 0.25em; line-height: 1; border-radius: 0.35em;\">\n",
       "    グレイコート社\n",
       "    <span style=\"font-size: 0.8em; font-weight: bold; line-height: 1; border-radius: 0.35em; vertical-align: middle; margin-left: 0.5rem\">法人名</span>\n",
       "</mark>\n",
       "は建物が42階あることから名称を「\n",
       "<mark class=\"entity\" style=\"background: #00FFFF; padding: 0.45em 0.6em; margin: 0 0.25em; line-height: 1; border-radius: 0.35em;\">\n",
       "    タワー42\n",
       "    <span style=\"font-size: 0.8em; font-weight: bold; line-height: 1; border-radius: 0.35em; vertical-align: middle; margin-left: 0.5rem\">製品名</span>\n",
       "</mark>\n",
       "」と正式に改称したのである。</div></span>"
      ],
      "text/plain": [
       "<IPython.core.display.HTML object>"
      ]
     },
     "metadata": {},
     "output_type": "display_data"
    },
    {
     "data": {
      "text/html": [
       "<span class=\"tex2jax_ignore\"><div class=\"entities\" style=\"line-height: 2.5; direction: ltr\">2010年1月24日には、浜名湖ボートレース場で開催された新鋭王座決定戦のラジオ中継に、ゲストパーソナリティとして出演した。</div></span>"
      ],
      "text/plain": [
       "<IPython.core.display.HTML object>"
      ]
     },
     "metadata": {},
     "output_type": "display_data"
    },
    {
     "data": {
      "text/html": [
       "<span class=\"tex2jax_ignore\"><div class=\"entities\" style=\"line-height: 2.5; direction: ltr\">2011年5月17日に保有権の30%を有していた\n",
       "<mark class=\"entity\" style=\"background: #7FFFD4; padding: 0.45em 0.6em; margin: 0 0.25em; line-height: 1; border-radius: 0.35em;\">\n",
       "    コンヴァージェンス・キャピタル・パートナーズBV\n",
       "    <span style=\"font-size: 0.8em; font-weight: bold; line-height: 1; border-radius: 0.35em; vertical-align: middle; margin-left: 0.5rem\">法人名</span>\n",
       "</mark>\n",
       "から225万ユーロで保有権を買い取り、\n",
       "<mark class=\"entity\" style=\"background: #7FFFD4; padding: 0.45em 0.6em; margin: 0 0.25em; line-height: 1; border-radius: 0.35em;\">\n",
       "    ポルト\n",
       "    <span style=\"font-size: 0.8em; font-weight: bold; line-height: 1; border-radius: 0.35em; vertical-align: middle; margin-left: 0.5rem\">法人名</span>\n",
       "</mark>\n",
       "は55%の保有権を持つことになった。</div></span>"
      ],
      "text/plain": [
       "<IPython.core.display.HTML object>"
      ]
     },
     "metadata": {},
     "output_type": "display_data"
    },
    {
     "data": {
      "text/html": [
       "<span class=\"tex2jax_ignore\"><div class=\"entities\" style=\"line-height: 2.5; direction: ltr\">\n",
       "<mark class=\"entity\" style=\"background: #bf00ff; padding: 0.45em 0.6em; margin: 0 0.25em; line-height: 1; border-radius: 0.35em;\">\n",
       "    スメドレー\n",
       "    <span style=\"font-size: 0.8em; font-weight: bold; line-height: 1; border-radius: 0.35em; vertical-align: middle; margin-left: 0.5rem\">人名</span>\n",
       "</mark>\n",
       "はオリジナルの「\n",
       "<mark class=\"entity\" style=\"background: #00FFFF; padding: 0.45em 0.6em; margin: 0 0.25em; line-height: 1; border-radius: 0.35em;\">\n",
       "    エバークエスト\n",
       "    <span style=\"font-size: 0.8em; font-weight: bold; line-height: 1; border-radius: 0.35em; vertical-align: middle; margin-left: 0.5rem\">製品名</span>\n",
       "</mark>\n",
       "」の制作・開発に関わり、「\n",
       "<mark class=\"entity\" style=\"background: #00FFFF; padding: 0.45em 0.6em; margin: 0 0.25em; line-height: 1; border-radius: 0.35em;\">\n",
       "    Verant Interactive, Inc.\n",
       "    <span style=\"font-size: 0.8em; font-weight: bold; line-height: 1; border-radius: 0.35em; vertical-align: middle; margin-left: 0.5rem\">製品名</span>\n",
       "</mark>\n",
       "」の共同創設者となった。</div></span>"
      ],
      "text/plain": [
       "<IPython.core.display.HTML object>"
      ]
     },
     "metadata": {},
     "output_type": "display_data"
    }
   ],
   "source": [
    "data_predict(my_trained_ner_nlp, valid_data[:25])"
   ]
  },
  {
   "cell_type": "code",
   "execution_count": 109,
   "metadata": {
    "colab": {
     "base_uri": "https://localhost:8080/",
     "height": 52
    },
    "id": "6TQs84EHWp4l",
    "outputId": "fd02dc3c-c3ca-486c-dc3d-2a4c2566a1e1"
   },
   "outputs": [
    {
     "data": {
      "text/html": [
       "<span class=\"tex2jax_ignore\"><div class=\"entities\" style=\"line-height: 2.5; direction: ltr\">\n",
       "<mark class=\"entity\" style=\"background: #bf00ff; padding: 0.45em 0.6em; margin: 0 0.25em; line-height: 1; border-radius: 0.35em;\">\n",
       "    田畑\n",
       "    <span style=\"font-size: 0.8em; font-weight: bold; line-height: 1; border-radius: 0.35em; vertical-align: middle; margin-left: 0.5rem\">人名</span>\n",
       "</mark>\n",
       "さんは\n",
       "<mark class=\"entity\" style=\"background: #F9B7FF; padding: 0.45em 0.6em; margin: 0 0.25em; line-height: 1; border-radius: 0.35em;\">\n",
       "    日本\n",
       "    <span style=\"font-size: 0.8em; font-weight: bold; line-height: 1; border-radius: 0.35em; vertical-align: middle; margin-left: 0.5rem\">地名</span>\n",
       "</mark>\n",
       "に住んでいます。</div></span>"
      ],
      "text/plain": [
       "<IPython.core.display.HTML object>"
      ]
     },
     "metadata": {},
     "output_type": "display_data"
    }
   ],
   "source": [
    "doc = my_trained_ner_nlp(\"田畑さんは日本に住んでいます。\")\n",
    "displacy.render(my_trained_ner_nlp(doc.text), style='ent', options=options, jupyter=True)"
   ]
  },
  {
   "cell_type": "code",
   "execution_count": null,
   "metadata": {
    "id": "4YfCQJhhfYWM"
   },
   "outputs": [],
   "source": []
  }
 ],
 "metadata": {
  "colab": {
   "collapsed_sections": [],
   "provenance": []
  },
  "kernelspec": {
   "display_name": "Python 3",
   "language": "python",
   "name": "python3"
  },
  "language_info": {
   "codemirror_mode": {
    "name": "ipython",
    "version": 3
   },
   "file_extension": ".py",
   "mimetype": "text/x-python",
   "name": "python",
   "nbconvert_exporter": "python",
   "pygments_lexer": "ipython3",
   "version": "3.8.3"
  }
 },
 "nbformat": 4,
 "nbformat_minor": 1
}
